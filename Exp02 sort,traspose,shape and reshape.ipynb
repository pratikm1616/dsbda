{
 "cells": [
  {
   "cell_type": "code",
   "execution_count": 1,
   "id": "fc76755b",
   "metadata": {},
   "outputs": [
    {
     "name": "stdout",
     "output_type": "stream",
     "text": [
      "\n",
      "Before sorting:\n",
      "   ID    Name    Role  Salary\n",
      "0   1  Pankaj  Editor   10000\n",
      "1   2    Lisa  Editor    8000\n",
      "2   3   David  Author    6000\n",
      "3   4     Ram  Author    4000\n",
      "4   5  Anupam  Author    5000\n",
      "\n",
      "After sorting:\n",
      "   ID    Name    Role  Salary\n",
      "3   4     Ram  Author    4000\n",
      "4   5  Anupam  Author    5000\n",
      "2   3   David  Author    6000\n",
      "1   2    Lisa  Editor    8000\n",
      "0   1  Pankaj  Editor   10000\n"
     ]
    }
   ],
   "source": [
    "# importing pandas package\n",
    "import pandas as pd\n",
    "# assign dataset\n",
    "csvData = pd.read_csv(\"C:/Users/Mangesh/Downloads/Data sets-20240124T042619Z-001/Data setsrecords.csv\")\n",
    "# displaying unsorted data frame\n",
    "print(\"\\nBefore sorting:\")\n",
    "print(csvData)\n",
    "# sort data frame\n",
    "#csvData.sort_values([\"Salary\"], axis=0, ascending=[False], inplace=True)\n",
    "csvData.sort_values([\"Salary\"],axis=0, ascending=[True], inplace=True)\n",
    "# displaying sorted data frame\n",
    "print(\"\\nAfter sorting:\")\n",
    "print(csvData)"
   ]
  },
  {
   "cell_type": "code",
   "execution_count": 2,
   "id": "2d9cf5a2",
   "metadata": {},
   "outputs": [
    {
     "name": "stdout",
     "output_type": "stream",
     "text": [
      "   ID    Name    Role  Salary\n",
      "0   1  Pankaj  Editor   10000\n",
      "1   2    Lisa  Editor    8000\n",
      "2   3   David  Author    6000\n",
      "3   4     Ram  Author    4000\n",
      "4   5  Anupam  Author    5000\n",
      "             0       1       2       3       4\n",
      "ID           1       2       3       4       5\n",
      "Name    Pankaj    Lisa   David     Ram  Anupam\n",
      "Role    Editor  Editor  Author  Author  Author\n",
      "Salary   10000    8000    6000    4000    5000\n",
      "(5, 4)\n",
      "20\n"
     ]
    }
   ],
   "source": [
    "import pandas as pd\n",
    "df = pd.read_csv(\"C:/Users/Mangesh/Downloads/Data sets-20240124T042619Z-001/Data sets/records.csv\")\n",
    "print(df)\n",
    "print(df.T)\n",
    "print(df.shape)\n",
    "print(df.size)"
   ]
  },
  {
   "cell_type": "code",
   "execution_count": 4,
   "id": "3e3c9d54",
   "metadata": {},
   "outputs": [
    {
     "name": "stdout",
     "output_type": "stream",
     "text": [
      "   ID    Name    Role  Salary\n",
      "0   1  Pankaj  Editor   10000\n",
      "1   2    Lisa  Editor    8000\n",
      "2   3   David  Author    6000\n",
      "3   4     Ram  Author    4000\n",
      "4   5  Anupam  Author    5000\n",
      "(5, 4)\n",
      "20\n"
     ]
    }
   ],
   "source": [
    "import pandas as pd\n",
    "df = pd.read_csv(\"C:/Users/Mangesh/Downloads/Data sets-20240124T042619Z-001/Data sets/records.csv\")\n",
    "print(df)\n",
    "print(df.shape)\n",
    "print(df.size)"
   ]
  },
  {
   "cell_type": "code",
   "execution_count": null,
   "id": "bdb5cd6b",
   "metadata": {},
   "outputs": [],
   "source": []
  }
 ],
 "metadata": {
  "kernelspec": {
   "display_name": "Python 3 (ipykernel)",
   "language": "python",
   "name": "python3"
  },
  "language_info": {
   "codemirror_mode": {
    "name": "ipython",
    "version": 3
   },
   "file_extension": ".py",
   "mimetype": "text/x-python",
   "name": "python",
   "nbconvert_exporter": "python",
   "pygments_lexer": "ipython3",
   "version": "3.11.3"
  }
 },
 "nbformat": 4,
 "nbformat_minor": 5
}
